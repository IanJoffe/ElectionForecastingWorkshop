{
 "cells": [
  {
   "cell_type": "code",
   "execution_count": 1,
   "metadata": {},
   "outputs": [
    {
     "name": "stdout",
     "output_type": "stream",
     "text": [
      "Stored 'solutions' (dict)\n"
     ]
    }
   ],
   "source": [
    "solutions = {\n",
    "    \"calculate_result_probabilities\": \"true_results, leads, confidence\",\n",
    "    \"loss\": \"-sum(calculate_result_probabilities(confidence) ** (1/3))\\n\\nThe 1/3 exponential here might surprise you. The reason we use it is because in one historic election, the result was extremely close to the polling average. This gives an unwanted huge boost to the loss function (in the negative direction) when it assigns an extremely high probability to that one result from using an extremely high confidence parameter. You can see this by plugging in the solution loss function without the exponential - you get really negative loss as you just keep cranking up the confidence. Taking some root of the of the result probabilities means that we prefer to miss by a little in a lot of elections than get one exactly right and miss by more in other elections. The choice of 1/3 is a little arbitrary, and you're welcome to mess with other roots.\",\n",
    "    \"gradient descent\": \"optimal_confidence -= learning_rate * loss_deriv_fd(optimal_confidence)\",\n",
    "    \"simulate_district\": \"natl_gen_ballot + state_lean, elasticity\",\n",
    "    \"tipping_point_model\": \"districts['lean'].median()\\ncurrent_dem_pct + tipping_point_dist_lean\",\n",
    "    \"multivariate fd\": \"(loss(confidence+epsilon, penalty) - loss(confidence-epsilon, penalty)) / (2 * epsilon)\\n(loss(confidence, penalty+epsilon) - loss(confidence, penalty-epsilon)) / (2 * epsilon)\"\n",
    "}\n",
    "\n",
    "%store solutions"
   ]
  },
  {
   "cell_type": "code",
   "execution_count": null,
   "metadata": {},
   "outputs": [],
   "source": []
  }
 ],
 "metadata": {
  "kernelspec": {
   "display_name": "Python 3",
   "language": "python",
   "name": "python3"
  },
  "language_info": {
   "codemirror_mode": {
    "name": "ipython",
    "version": 3
   },
   "file_extension": ".py",
   "mimetype": "text/x-python",
   "name": "python",
   "nbconvert_exporter": "python",
   "pygments_lexer": "ipython3",
   "version": "3.7.3"
  }
 },
 "nbformat": 4,
 "nbformat_minor": 5
}
